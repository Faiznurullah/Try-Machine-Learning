{
 "cells": [
  {
   "cell_type": "code",
   "execution_count": null,
   "id": "f7d34fb2",
   "metadata": {},
   "outputs": [],
   "source": [
    "import pandas as pd\n",
    "import numpy as np\n",
    "from sklearn.model_selection import GridSearchCV\n",
    "from sklearn.svm import SVR\n",
    "import matplotlib.pyplot as plt"
   ]
  },
  {
   "cell_type": "code",
   "execution_count": null,
   "id": "bdefb2ff",
   "metadata": {},
   "outputs": [],
   "source": [
    "# membaca dataset dan mengubahnya menjadi dataframe\n",
    "data = pd.read_csv('dataset/Salary_Data.csv')"
   ]
  },
  {
   "cell_type": "code",
   "execution_count": null,
   "id": "1ed31fc5",
   "metadata": {},
   "outputs": [],
   "source": [
    "# memisahkan atribut dan label\n",
    "X = data['YearsExperience']\n",
    "y = data['Salary']\n",
    " \n",
    "# mengubah bentuk atribut\n",
    "X = X[:,np.newaxis]"
   ]
  },
  {
   "cell_type": "code",
   "execution_count": null,
   "id": "84c75cb2",
   "metadata": {},
   "outputs": [],
   "source": [
    "   \n",
    "     \n",
    "    # membangun model dengan parameter C, gamma, dan kernel\n",
    "    model = SVR()\n",
    "    parameters = {\n",
    "        'kernel': ['rbf'],\n",
    "        'C':     [1000, 10000, 100000],\n",
    "        'gamma': [0.5, 0.05,0.005]\n",
    "    }\n",
    "    grid_search = GridSearchCV(model, parameters)\n",
    "     \n",
    "    # melatih model dengan fungsi fit\n",
    "    grid_search.fit(X,y)"
   ]
  },
  {
   "cell_type": "code",
   "execution_count": null,
   "id": "58e05eb9",
   "metadata": {},
   "outputs": [],
   "source": [
    "    # menampilkan parameter terbaik dari objek grid_search\n",
    "    print(grid_search.best_params_)"
   ]
  },
  {
   "cell_type": "code",
   "execution_count": null,
   "id": "4f8d4874",
   "metadata": {},
   "outputs": [],
   "source": [
    "    # membuat model SVM baru dengan parameter terbaik hasil grid search\n",
    "    model_baru  = SVR(C=100000, gamma=0.005, kernel='rbf')\n",
    "    model_baru.fit(X,y)"
   ]
  },
  {
   "cell_type": "code",
   "execution_count": null,
   "id": "76abb170",
   "metadata": {},
   "outputs": [],
   "source": [
    "plt.scatter(X, y)\n",
    "plt.plot(X, model_baru.predict(X))"
   ]
  },
  {
   "cell_type": "code",
   "execution_count": null,
   "id": "f00ce2a2",
   "metadata": {},
   "outputs": [],
   "source": []
  }
 ],
 "metadata": {
  "kernelspec": {
   "display_name": "Python 3 (ipykernel)",
   "language": "python",
   "name": "python3"
  },
  "language_info": {
   "codemirror_mode": {
    "name": "ipython",
    "version": 3
   },
   "file_extension": ".py",
   "mimetype": "text/x-python",
   "name": "python",
   "nbconvert_exporter": "python",
   "pygments_lexer": "ipython3",
   "version": "3.9.12"
  }
 },
 "nbformat": 4,
 "nbformat_minor": 5
}
