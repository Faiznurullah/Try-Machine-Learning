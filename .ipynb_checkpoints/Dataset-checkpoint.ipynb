{
 "cells": [
  {
   "cell_type": "code",
   "execution_count": 1,
   "id": "379a57ca",
   "metadata": {},
   "outputs": [
    {
     "name": "stdout",
     "output_type": "stream",
     "text": [
      "random_state ditentukan\n",
      "[8, 1, 5]\n",
      "random_state tidak ditentukan\n",
      "[1, 7, 0]\n",
      "[0, 5, 1]\n",
      "[2, 8, 4]\n",
      "[8, 1, 5]\n",
      "random_state tidak ditentukan\n",
      "[2, 4, 6]\n",
      "[6, 4, 8]\n",
      "[3, 7, 0]\n",
      "[8, 1, 5]\n",
      "random_state tidak ditentukan\n",
      "[3, 8, 5]\n",
      "[2, 6, 5]\n",
      "[0, 7, 4]\n"
     ]
    }
   ],
   "source": [
    "from sklearn.model_selection import train_test_split\n",
    "     \n",
    "X_data = range(10)\n",
    "y_data = range(10)\n",
    "     \n",
    "print(\"random_state ditentukan\")\n",
    "for i in range(3):\n",
    "    X_train, X_test, y_train, y_test = train_test_split(X_data, y_data, test_size = 0.3, random_state = 42)\n",
    "    print(y_test)\n",
    "     \n",
    "     \n",
    "    print(\"random_state tidak ditentukan\")\n",
    "    for i in range(3):\n",
    "        X_train, X_test, y_train, y_test = train_test_split(X_data, y_data, test_size = 0.3, random_state = None)\n",
    "        print(y_test)"
   ]
  },
  {
   "cell_type": "code",
   "execution_count": null,
   "id": "c4e68a11",
   "metadata": {},
   "outputs": [],
   "source": []
  }
 ],
 "metadata": {
  "kernelspec": {
   "display_name": "Python 3 (ipykernel)",
   "language": "python",
   "name": "python3"
  },
  "language_info": {
   "codemirror_mode": {
    "name": "ipython",
    "version": 3
   },
   "file_extension": ".py",
   "mimetype": "text/x-python",
   "name": "python",
   "nbconvert_exporter": "python",
   "pygments_lexer": "ipython3",
   "version": "3.9.12"
  }
 },
 "nbformat": 4,
 "nbformat_minor": 5
}
